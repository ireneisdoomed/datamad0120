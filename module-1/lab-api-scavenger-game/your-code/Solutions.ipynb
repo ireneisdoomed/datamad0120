{
 "cells": [
  {
   "cell_type": "code",
   "execution_count": 170,
   "metadata": {},
   "outputs": [],
   "source": [
    "import json\n",
    "import os\n",
    "from dotenv import load_dotenv\n",
    "import requests\n",
    "import re\n"
   ]
  },
  {
   "cell_type": "code",
   "execution_count": 125,
   "metadata": {},
   "outputs": [
    {
     "name": "stdout",
     "output_type": "stream",
     "text": [
      "We have a github token: 90e\n"
     ]
    }
   ],
   "source": [
    "load_dotenv()\n",
    "token = os.getenv(\"GITHUB_APIKEY\")\n",
    "print(f\"We have a github token: {token[0:3]}\")"
   ]
  },
  {
   "cell_type": "markdown",
   "metadata": {},
   "source": [
    "# # Challenge 1"
   ]
  },
  {
   "cell_type": "code",
   "execution_count": 28,
   "metadata": {},
   "outputs": [],
   "source": [
    "forks = requests.get(\"https://api.github.com/repos/ironhack-datalabs/datamad0120/forks\").json()\n"
   ]
  },
  {
   "cell_type": "code",
   "execution_count": 25,
   "metadata": {},
   "outputs": [],
   "source": [
    "\n",
    "language = list(map(lambda x: x[\"language\"], forks))\n",
    "    "
   ]
  },
  {
   "cell_type": "code",
   "execution_count": 17,
   "metadata": {},
   "outputs": [
    {
     "name": "stdout",
     "output_type": "stream",
     "text": [
      "{None, 'Jupyter Notebook'}\n"
     ]
    }
   ],
   "source": [
    "language = set(language)\n",
    "print(language)"
   ]
  },
  {
   "cell_type": "markdown",
   "metadata": {},
   "source": [
    "# # Challenge 2"
   ]
  },
  {
   "cell_type": "code",
   "execution_count": 29,
   "metadata": {},
   "outputs": [],
   "source": [
    "commits = requests.get(\"https://api.github.com/repos/ironhack-datalabs/datamad0120/commits\").json()\n"
   ]
  },
  {
   "cell_type": "code",
   "execution_count": 39,
   "metadata": {},
   "outputs": [
    {
     "data": {
      "text/plain": [
       "{'sha': '6c8dd4ca113cf9dc58d60a04a5e12441a13c08fa',\n",
       " 'node_id': 'MDY6Q29tbWl0MjMzNTc5NDU2OjZjOGRkNGNhMTEzY2Y5ZGM1OGQ2MGEwNGE1ZTEyNDQxYTEzYzA4ZmE=',\n",
       " 'commit': {'author': {'name': 'Clara',\n",
       "   'email': '55156332+Clapiniella@users.noreply.github.com',\n",
       "   'date': '2020-01-23T13:58:34Z'},\n",
       "  'committer': {'name': 'GitHub',\n",
       "   'email': 'noreply@github.com',\n",
       "   'date': '2020-01-23T13:58:34Z'},\n",
       "  'message': 'Update README.md',\n",
       "  'tree': {'sha': 'e7160f4564bfe920182fdf0072180ff8ce89130f',\n",
       "   'url': 'https://api.github.com/repos/ironhack-datalabs/datamad0120/git/trees/e7160f4564bfe920182fdf0072180ff8ce89130f'},\n",
       "  'url': 'https://api.github.com/repos/ironhack-datalabs/datamad0120/git/commits/6c8dd4ca113cf9dc58d60a04a5e12441a13c08fa',\n",
       "  'comment_count': 0,\n",
       "  'verification': {'verified': True,\n",
       "   'reason': 'valid',\n",
       "   'signature': '-----BEGIN PGP SIGNATURE-----\\n\\nwsBcBAABCAAQBQJeKaaKCRBK7hj4Ov3rIwAAdHIIAGe2JdwREMk0k0y2NCjmwcGr\\nRv96wjEWR4dBoXVJdTzYYr/JOaeuLpsrw/QNFsFqKs7A63dH1U7CLC+baDhs2vdJ\\nIqFgGHr7rwuXuE5aOZInxHlQCRT44iNVha5Z66KWC6PBVabks5fegoxhmBetLoa4\\n32TyRHvkRujos8VxM3apnT3Z+fbA132ATchXiMV3im+3jDpUigUkstoL9aWPiP48\\naKCxh3TAlI8xwqy2m2hhgsxxQp09eA6KN/MKPMQzQw52cvXs7gN83TQBymQZl44O\\nnJ5hLI49TabhXLmfjL0CAl1sFUEJSvIZ+Dsmx0rlVbEaMk3naS8nSmQPdNZmua8=\\n=mbLn\\n-----END PGP SIGNATURE-----\\n',\n",
       "   'payload': 'tree e7160f4564bfe920182fdf0072180ff8ce89130f\\nparent 1cd7b23e91644bd7c2c6a241eee16ea21835955d\\nauthor Clara <55156332+Clapiniella@users.noreply.github.com> 1579787914 +0100\\ncommitter GitHub <noreply@github.com> 1579787914 +0100\\n\\nUpdate README.md'}},\n",
       " 'url': 'https://api.github.com/repos/ironhack-datalabs/datamad0120/commits/6c8dd4ca113cf9dc58d60a04a5e12441a13c08fa',\n",
       " 'html_url': 'https://github.com/ironhack-datalabs/datamad0120/commit/6c8dd4ca113cf9dc58d60a04a5e12441a13c08fa',\n",
       " 'comments_url': 'https://api.github.com/repos/ironhack-datalabs/datamad0120/commits/6c8dd4ca113cf9dc58d60a04a5e12441a13c08fa/comments',\n",
       " 'author': {'login': 'Clapiniella',\n",
       "  'id': 55156332,\n",
       "  'node_id': 'MDQ6VXNlcjU1MTU2MzMy',\n",
       "  'avatar_url': 'https://avatars3.githubusercontent.com/u/55156332?v=4',\n",
       "  'gravatar_id': '',\n",
       "  'url': 'https://api.github.com/users/Clapiniella',\n",
       "  'html_url': 'https://github.com/Clapiniella',\n",
       "  'followers_url': 'https://api.github.com/users/Clapiniella/followers',\n",
       "  'following_url': 'https://api.github.com/users/Clapiniella/following{/other_user}',\n",
       "  'gists_url': 'https://api.github.com/users/Clapiniella/gists{/gist_id}',\n",
       "  'starred_url': 'https://api.github.com/users/Clapiniella/starred{/owner}{/repo}',\n",
       "  'subscriptions_url': 'https://api.github.com/users/Clapiniella/subscriptions',\n",
       "  'organizations_url': 'https://api.github.com/users/Clapiniella/orgs',\n",
       "  'repos_url': 'https://api.github.com/users/Clapiniella/repos',\n",
       "  'events_url': 'https://api.github.com/users/Clapiniella/events{/privacy}',\n",
       "  'received_events_url': 'https://api.github.com/users/Clapiniella/received_events',\n",
       "  'type': 'User',\n",
       "  'site_admin': False},\n",
       " 'committer': {'login': 'web-flow',\n",
       "  'id': 19864447,\n",
       "  'node_id': 'MDQ6VXNlcjE5ODY0NDQ3',\n",
       "  'avatar_url': 'https://avatars3.githubusercontent.com/u/19864447?v=4',\n",
       "  'gravatar_id': '',\n",
       "  'url': 'https://api.github.com/users/web-flow',\n",
       "  'html_url': 'https://github.com/web-flow',\n",
       "  'followers_url': 'https://api.github.com/users/web-flow/followers',\n",
       "  'following_url': 'https://api.github.com/users/web-flow/following{/other_user}',\n",
       "  'gists_url': 'https://api.github.com/users/web-flow/gists{/gist_id}',\n",
       "  'starred_url': 'https://api.github.com/users/web-flow/starred{/owner}{/repo}',\n",
       "  'subscriptions_url': 'https://api.github.com/users/web-flow/subscriptions',\n",
       "  'organizations_url': 'https://api.github.com/users/web-flow/orgs',\n",
       "  'repos_url': 'https://api.github.com/users/web-flow/repos',\n",
       "  'events_url': 'https://api.github.com/users/web-flow/events{/privacy}',\n",
       "  'received_events_url': 'https://api.github.com/users/web-flow/received_events',\n",
       "  'type': 'User',\n",
       "  'site_admin': False},\n",
       " 'parents': [{'sha': '1cd7b23e91644bd7c2c6a241eee16ea21835955d',\n",
       "   'url': 'https://api.github.com/repos/ironhack-datalabs/datamad0120/commits/1cd7b23e91644bd7c2c6a241eee16ea21835955d',\n",
       "   'html_url': 'https://github.com/ironhack-datalabs/datamad0120/commit/1cd7b23e91644bd7c2c6a241eee16ea21835955d'}]}"
      ]
     },
     "execution_count": 39,
     "metadata": {},
     "output_type": "execute_result"
    }
   ],
   "source": [
    "commits[0]"
   ]
  },
  {
   "cell_type": "code",
   "execution_count": 70,
   "metadata": {},
   "outputs": [],
   "source": [
    "lastWeek = requests.get(\"https://api.github.com/repos/ironhack-datalabs/datamad0120/commits?since='2020-01-20T00:00:00'\").json()\n"
   ]
  },
  {
   "cell_type": "code",
   "execution_count": 73,
   "metadata": {},
   "outputs": [
    {
     "name": "stdout",
     "output_type": "stream",
     "text": [
      "1\n"
     ]
    }
   ],
   "source": [
    "print(len(lastWeek))"
   ]
  },
  {
   "cell_type": "markdown",
   "metadata": {},
   "source": [
    "# # Challenge 3"
   ]
  },
  {
   "cell_type": "code",
   "execution_count": 98,
   "metadata": {},
   "outputs": [],
   "source": [
    "contents = requests.get(\"https://api.github.com/repos/ironhack-datalabs/scavenger/contents\").json()\n"
   ]
  },
  {
   "cell_type": "code",
   "execution_count": 99,
   "metadata": {},
   "outputs": [
    {
     "name": "stdout",
     "output_type": "stream",
     "text": [
      "[{'name': '.gitignore', 'path': '.gitignore', 'sha': 'e43b0f988953ae3a84b00331d0ccf5f7d51cb3cf', 'size': 10, 'url': 'https://api.github.com/repos/ironhack-datalabs/scavenger/contents/.gitignore?ref=master', 'html_url': 'https://github.com/ironhack-datalabs/scavenger/blob/master/.gitignore', 'git_url': 'https://api.github.com/repos/ironhack-datalabs/scavenger/git/blobs/e43b0f988953ae3a84b00331d0ccf5f7d51cb3cf', 'download_url': 'https://raw.githubusercontent.com/ironhack-datalabs/scavenger/master/.gitignore', 'type': 'file', '_links': {'self': 'https://api.github.com/repos/ironhack-datalabs/scavenger/contents/.gitignore?ref=master', 'git': 'https://api.github.com/repos/ironhack-datalabs/scavenger/git/blobs/e43b0f988953ae3a84b00331d0ccf5f7d51cb3cf', 'html': 'https://github.com/ironhack-datalabs/scavenger/blob/master/.gitignore'}}, {'name': '15024', 'path': '15024', 'sha': '2945e51c87ad5da893c954afcf092f06343bbb7d', 'size': 0, 'url': 'https://api.github.com/repos/ironhack-datalabs/scavenger/contents/15024?ref=master', 'html_url': 'https://github.com/ironhack-datalabs/scavenger/tree/master/15024', 'git_url': 'https://api.github.com/repos/ironhack-datalabs/scavenger/git/trees/2945e51c87ad5da893c954afcf092f06343bbb7d', 'download_url': None, 'type': 'dir', '_links': {'self': 'https://api.github.com/repos/ironhack-datalabs/scavenger/contents/15024?ref=master', 'git': 'https://api.github.com/repos/ironhack-datalabs/scavenger/git/trees/2945e51c87ad5da893c954afcf092f06343bbb7d', 'html': 'https://github.com/ironhack-datalabs/scavenger/tree/master/15024'}}, {'name': '15534', 'path': '15534', 'sha': '5af6f2a7287e4191f39e55693fc1e9c8918d1d3a', 'size': 0, 'url': 'https://api.github.com/repos/ironhack-datalabs/scavenger/contents/15534?ref=master', 'html_url': 'https://github.com/ironhack-datalabs/scavenger/tree/master/15534', 'git_url': 'https://api.github.com/repos/ironhack-datalabs/scavenger/git/trees/5af6f2a7287e4191f39e55693fc1e9c8918d1d3a', 'download_url': None, 'type': 'dir', '_links': {'self': 'https://api.github.com/repos/ironhack-datalabs/scavenger/contents/15534?ref=master', 'git': 'https://api.github.com/repos/ironhack-datalabs/scavenger/git/trees/5af6f2a7287e4191f39e55693fc1e9c8918d1d3a', 'html': 'https://github.com/ironhack-datalabs/scavenger/tree/master/15534'}}, {'name': '17020', 'path': '17020', 'sha': '9c49f920aa4d9433fa99a5824128f0e6b90ec5f2', 'size': 0, 'url': 'https://api.github.com/repos/ironhack-datalabs/scavenger/contents/17020?ref=master', 'html_url': 'https://github.com/ironhack-datalabs/scavenger/tree/master/17020', 'git_url': 'https://api.github.com/repos/ironhack-datalabs/scavenger/git/trees/9c49f920aa4d9433fa99a5824128f0e6b90ec5f2', 'download_url': None, 'type': 'dir', '_links': {'self': 'https://api.github.com/repos/ironhack-datalabs/scavenger/contents/17020?ref=master', 'git': 'https://api.github.com/repos/ironhack-datalabs/scavenger/git/trees/9c49f920aa4d9433fa99a5824128f0e6b90ec5f2', 'html': 'https://github.com/ironhack-datalabs/scavenger/tree/master/17020'}}, {'name': '30351', 'path': '30351', 'sha': 'c488d7f64088c852e22067d48fdc64ee3670f3ba', 'size': 0, 'url': 'https://api.github.com/repos/ironhack-datalabs/scavenger/contents/30351?ref=master', 'html_url': 'https://github.com/ironhack-datalabs/scavenger/tree/master/30351', 'git_url': 'https://api.github.com/repos/ironhack-datalabs/scavenger/git/trees/c488d7f64088c852e22067d48fdc64ee3670f3ba', 'download_url': None, 'type': 'dir', '_links': {'self': 'https://api.github.com/repos/ironhack-datalabs/scavenger/contents/30351?ref=master', 'git': 'https://api.github.com/repos/ironhack-datalabs/scavenger/git/trees/c488d7f64088c852e22067d48fdc64ee3670f3ba', 'html': 'https://github.com/ironhack-datalabs/scavenger/tree/master/30351'}}, {'name': '40303', 'path': '40303', 'sha': '30193d9cf62b07bcbb6366513ff03596861f2d29', 'size': 0, 'url': 'https://api.github.com/repos/ironhack-datalabs/scavenger/contents/40303?ref=master', 'html_url': 'https://github.com/ironhack-datalabs/scavenger/tree/master/40303', 'git_url': 'https://api.github.com/repos/ironhack-datalabs/scavenger/git/trees/30193d9cf62b07bcbb6366513ff03596861f2d29', 'download_url': None, 'type': 'dir', '_links': {'self': 'https://api.github.com/repos/ironhack-datalabs/scavenger/contents/40303?ref=master', 'git': 'https://api.github.com/repos/ironhack-datalabs/scavenger/git/trees/30193d9cf62b07bcbb6366513ff03596861f2d29', 'html': 'https://github.com/ironhack-datalabs/scavenger/tree/master/40303'}}, {'name': '44639', 'path': '44639', 'sha': '22fc3d5c2db80822c351edb2248f3491c8ebda86', 'size': 0, 'url': 'https://api.github.com/repos/ironhack-datalabs/scavenger/contents/44639?ref=master', 'html_url': 'https://github.com/ironhack-datalabs/scavenger/tree/master/44639', 'git_url': 'https://api.github.com/repos/ironhack-datalabs/scavenger/git/trees/22fc3d5c2db80822c351edb2248f3491c8ebda86', 'download_url': None, 'type': 'dir', '_links': {'self': 'https://api.github.com/repos/ironhack-datalabs/scavenger/contents/44639?ref=master', 'git': 'https://api.github.com/repos/ironhack-datalabs/scavenger/git/trees/22fc3d5c2db80822c351edb2248f3491c8ebda86', 'html': 'https://github.com/ironhack-datalabs/scavenger/tree/master/44639'}}, {'name': '45525', 'path': '45525', 'sha': '6a4a88cd9084110c8646c3cfd84dfe96b300a4a7', 'size': 0, 'url': 'https://api.github.com/repos/ironhack-datalabs/scavenger/contents/45525?ref=master', 'html_url': 'https://github.com/ironhack-datalabs/scavenger/tree/master/45525', 'git_url': 'https://api.github.com/repos/ironhack-datalabs/scavenger/git/trees/6a4a88cd9084110c8646c3cfd84dfe96b300a4a7', 'download_url': None, 'type': 'dir', '_links': {'self': 'https://api.github.com/repos/ironhack-datalabs/scavenger/contents/45525?ref=master', 'git': 'https://api.github.com/repos/ironhack-datalabs/scavenger/git/trees/6a4a88cd9084110c8646c3cfd84dfe96b300a4a7', 'html': 'https://github.com/ironhack-datalabs/scavenger/tree/master/45525'}}, {'name': '47222', 'path': '47222', 'sha': 'c7001604cdadc2fe7b82e0f6996690718cac6941', 'size': 0, 'url': 'https://api.github.com/repos/ironhack-datalabs/scavenger/contents/47222?ref=master', 'html_url': 'https://github.com/ironhack-datalabs/scavenger/tree/master/47222', 'git_url': 'https://api.github.com/repos/ironhack-datalabs/scavenger/git/trees/c7001604cdadc2fe7b82e0f6996690718cac6941', 'download_url': None, 'type': 'dir', '_links': {'self': 'https://api.github.com/repos/ironhack-datalabs/scavenger/contents/47222?ref=master', 'git': 'https://api.github.com/repos/ironhack-datalabs/scavenger/git/trees/c7001604cdadc2fe7b82e0f6996690718cac6941', 'html': 'https://github.com/ironhack-datalabs/scavenger/tree/master/47222'}}, {'name': '47830', 'path': '47830', 'sha': 'f84882ad7560fd2b8c6a0867bc707ce9009ef288', 'size': 0, 'url': 'https://api.github.com/repos/ironhack-datalabs/scavenger/contents/47830?ref=master', 'html_url': 'https://github.com/ironhack-datalabs/scavenger/tree/master/47830', 'git_url': 'https://api.github.com/repos/ironhack-datalabs/scavenger/git/trees/f84882ad7560fd2b8c6a0867bc707ce9009ef288', 'download_url': None, 'type': 'dir', '_links': {'self': 'https://api.github.com/repos/ironhack-datalabs/scavenger/contents/47830?ref=master', 'git': 'https://api.github.com/repos/ironhack-datalabs/scavenger/git/trees/f84882ad7560fd2b8c6a0867bc707ce9009ef288', 'html': 'https://github.com/ironhack-datalabs/scavenger/tree/master/47830'}}, {'name': '49418', 'path': '49418', 'sha': '46bc658c09589d9023246b00e848ce97d30d4989', 'size': 0, 'url': 'https://api.github.com/repos/ironhack-datalabs/scavenger/contents/49418?ref=master', 'html_url': 'https://github.com/ironhack-datalabs/scavenger/tree/master/49418', 'git_url': 'https://api.github.com/repos/ironhack-datalabs/scavenger/git/trees/46bc658c09589d9023246b00e848ce97d30d4989', 'download_url': None, 'type': 'dir', '_links': {'self': 'https://api.github.com/repos/ironhack-datalabs/scavenger/contents/49418?ref=master', 'git': 'https://api.github.com/repos/ironhack-datalabs/scavenger/git/trees/46bc658c09589d9023246b00e848ce97d30d4989', 'html': 'https://github.com/ironhack-datalabs/scavenger/tree/master/49418'}}, {'name': '50896', 'path': '50896', 'sha': 'e47a7a35a19f80694587330c57d94e28d3b4c054', 'size': 0, 'url': 'https://api.github.com/repos/ironhack-datalabs/scavenger/contents/50896?ref=master', 'html_url': 'https://github.com/ironhack-datalabs/scavenger/tree/master/50896', 'git_url': 'https://api.github.com/repos/ironhack-datalabs/scavenger/git/trees/e47a7a35a19f80694587330c57d94e28d3b4c054', 'download_url': None, 'type': 'dir', '_links': {'self': 'https://api.github.com/repos/ironhack-datalabs/scavenger/contents/50896?ref=master', 'git': 'https://api.github.com/repos/ironhack-datalabs/scavenger/git/trees/e47a7a35a19f80694587330c57d94e28d3b4c054', 'html': 'https://github.com/ironhack-datalabs/scavenger/tree/master/50896'}}, {'name': '55417', 'path': '55417', 'sha': '636fa555a2ee752759144a268fd860feb2b6fd2d', 'size': 0, 'url': 'https://api.github.com/repos/ironhack-datalabs/scavenger/contents/55417?ref=master', 'html_url': 'https://github.com/ironhack-datalabs/scavenger/tree/master/55417', 'git_url': 'https://api.github.com/repos/ironhack-datalabs/scavenger/git/trees/636fa555a2ee752759144a268fd860feb2b6fd2d', 'download_url': None, 'type': 'dir', '_links': {'self': 'https://api.github.com/repos/ironhack-datalabs/scavenger/contents/55417?ref=master', 'git': 'https://api.github.com/repos/ironhack-datalabs/scavenger/git/trees/636fa555a2ee752759144a268fd860feb2b6fd2d', 'html': 'https://github.com/ironhack-datalabs/scavenger/tree/master/55417'}}, {'name': '55685', 'path': '55685', 'sha': 'a00a8148a88287508a867616d7063786d3d5d4ff', 'size': 0, 'url': 'https://api.github.com/repos/ironhack-datalabs/scavenger/contents/55685?ref=master', 'html_url': 'https://github.com/ironhack-datalabs/scavenger/tree/master/55685', 'git_url': 'https://api.github.com/repos/ironhack-datalabs/scavenger/git/trees/a00a8148a88287508a867616d7063786d3d5d4ff', 'download_url': None, 'type': 'dir', '_links': {'self': 'https://api.github.com/repos/ironhack-datalabs/scavenger/contents/55685?ref=master', 'git': 'https://api.github.com/repos/ironhack-datalabs/scavenger/git/trees/a00a8148a88287508a867616d7063786d3d5d4ff', 'html': 'https://github.com/ironhack-datalabs/scavenger/tree/master/55685'}}, {'name': '60224', 'path': '60224', 'sha': '28d70fba98bfacfaa5e5544b2eff6b61c9e8f57b', 'size': 0, 'url': 'https://api.github.com/repos/ironhack-datalabs/scavenger/contents/60224?ref=master', 'html_url': 'https://github.com/ironhack-datalabs/scavenger/tree/master/60224', 'git_url': 'https://api.github.com/repos/ironhack-datalabs/scavenger/git/trees/28d70fba98bfacfaa5e5544b2eff6b61c9e8f57b', 'download_url': None, 'type': 'dir', '_links': {'self': 'https://api.github.com/repos/ironhack-datalabs/scavenger/contents/60224?ref=master', 'git': 'https://api.github.com/repos/ironhack-datalabs/scavenger/git/trees/28d70fba98bfacfaa5e5544b2eff6b61c9e8f57b', 'html': 'https://github.com/ironhack-datalabs/scavenger/tree/master/60224'}}, {'name': '64880', 'path': '64880', 'sha': '88b159d6f73378e6968bb35ccfd8e3ad0cc462d2', 'size': 0, 'url': 'https://api.github.com/repos/ironhack-datalabs/scavenger/contents/64880?ref=master', 'html_url': 'https://github.com/ironhack-datalabs/scavenger/tree/master/64880', 'git_url': 'https://api.github.com/repos/ironhack-datalabs/scavenger/git/trees/88b159d6f73378e6968bb35ccfd8e3ad0cc462d2', 'download_url': None, 'type': 'dir', '_links': {'self': 'https://api.github.com/repos/ironhack-datalabs/scavenger/contents/64880?ref=master', 'git': 'https://api.github.com/repos/ironhack-datalabs/scavenger/git/trees/88b159d6f73378e6968bb35ccfd8e3ad0cc462d2', 'html': 'https://github.com/ironhack-datalabs/scavenger/tree/master/64880'}}, {'name': '66032', 'path': '66032', 'sha': '0230fa6fa1ccf49ab976fbbfc9eb838094779785', 'size': 0, 'url': 'https://api.github.com/repos/ironhack-datalabs/scavenger/contents/66032?ref=master', 'html_url': 'https://github.com/ironhack-datalabs/scavenger/tree/master/66032', 'git_url': 'https://api.github.com/repos/ironhack-datalabs/scavenger/git/trees/0230fa6fa1ccf49ab976fbbfc9eb838094779785', 'download_url': None, 'type': 'dir', '_links': {'self': 'https://api.github.com/repos/ironhack-datalabs/scavenger/contents/66032?ref=master', 'git': 'https://api.github.com/repos/ironhack-datalabs/scavenger/git/trees/0230fa6fa1ccf49ab976fbbfc9eb838094779785', 'html': 'https://github.com/ironhack-datalabs/scavenger/tree/master/66032'}}, {'name': '68848', 'path': '68848', 'sha': 'ed2f90be6835e7e74c283aedba1942b788754d32', 'size': 0, 'url': 'https://api.github.com/repos/ironhack-datalabs/scavenger/contents/68848?ref=master', 'html_url': 'https://github.com/ironhack-datalabs/scavenger/tree/master/68848', 'git_url': 'https://api.github.com/repos/ironhack-datalabs/scavenger/git/trees/ed2f90be6835e7e74c283aedba1942b788754d32', 'download_url': None, 'type': 'dir', '_links': {'self': 'https://api.github.com/repos/ironhack-datalabs/scavenger/contents/68848?ref=master', 'git': 'https://api.github.com/repos/ironhack-datalabs/scavenger/git/trees/ed2f90be6835e7e74c283aedba1942b788754d32', 'html': 'https://github.com/ironhack-datalabs/scavenger/tree/master/68848'}}, {'name': '70751', 'path': '70751', 'sha': 'a5d9391003b67cecf3c336398ec38cfa75a689b7', 'size': 0, 'url': 'https://api.github.com/repos/ironhack-datalabs/scavenger/contents/70751?ref=master', 'html_url': 'https://github.com/ironhack-datalabs/scavenger/tree/master/70751', 'git_url': 'https://api.github.com/repos/ironhack-datalabs/scavenger/git/trees/a5d9391003b67cecf3c336398ec38cfa75a689b7', 'download_url': None, 'type': 'dir', '_links': {'self': 'https://api.github.com/repos/ironhack-datalabs/scavenger/contents/70751?ref=master', 'git': 'https://api.github.com/repos/ironhack-datalabs/scavenger/git/trees/a5d9391003b67cecf3c336398ec38cfa75a689b7', 'html': 'https://github.com/ironhack-datalabs/scavenger/tree/master/70751'}}, {'name': '70985', 'path': '70985', 'sha': 'd1a654c5811f52ec8a101652b0a04367644eab99', 'size': 0, 'url': 'https://api.github.com/repos/ironhack-datalabs/scavenger/contents/70985?ref=master', 'html_url': 'https://github.com/ironhack-datalabs/scavenger/tree/master/70985', 'git_url': 'https://api.github.com/repos/ironhack-datalabs/scavenger/git/trees/d1a654c5811f52ec8a101652b0a04367644eab99', 'download_url': None, 'type': 'dir', '_links': {'self': 'https://api.github.com/repos/ironhack-datalabs/scavenger/contents/70985?ref=master', 'git': 'https://api.github.com/repos/ironhack-datalabs/scavenger/git/trees/d1a654c5811f52ec8a101652b0a04367644eab99', 'html': 'https://github.com/ironhack-datalabs/scavenger/tree/master/70985'}}, {'name': '88596', 'path': '88596', 'sha': 'f294d2a0e55a4bab12625a7f709b44450a5e4648', 'size': 0, 'url': 'https://api.github.com/repos/ironhack-datalabs/scavenger/contents/88596?ref=master', 'html_url': 'https://github.com/ironhack-datalabs/scavenger/tree/master/88596', 'git_url': 'https://api.github.com/repos/ironhack-datalabs/scavenger/git/trees/f294d2a0e55a4bab12625a7f709b44450a5e4648', 'download_url': None, 'type': 'dir', '_links': {'self': 'https://api.github.com/repos/ironhack-datalabs/scavenger/contents/88596?ref=master', 'git': 'https://api.github.com/repos/ironhack-datalabs/scavenger/git/trees/f294d2a0e55a4bab12625a7f709b44450a5e4648', 'html': 'https://github.com/ironhack-datalabs/scavenger/tree/master/88596'}}, {'name': '89046', 'path': '89046', 'sha': '5f3ef5f14cf72bbe03a24b69777ba02f19a3adb5', 'size': 0, 'url': 'https://api.github.com/repos/ironhack-datalabs/scavenger/contents/89046?ref=master', 'html_url': 'https://github.com/ironhack-datalabs/scavenger/tree/master/89046', 'git_url': 'https://api.github.com/repos/ironhack-datalabs/scavenger/git/trees/5f3ef5f14cf72bbe03a24b69777ba02f19a3adb5', 'download_url': None, 'type': 'dir', '_links': {'self': 'https://api.github.com/repos/ironhack-datalabs/scavenger/contents/89046?ref=master', 'git': 'https://api.github.com/repos/ironhack-datalabs/scavenger/git/trees/5f3ef5f14cf72bbe03a24b69777ba02f19a3adb5', 'html': 'https://github.com/ironhack-datalabs/scavenger/tree/master/89046'}}, {'name': '89338', 'path': '89338', 'sha': '79c94a4032a927b2af52cc6da4ce27eb2abbf55e', 'size': 0, 'url': 'https://api.github.com/repos/ironhack-datalabs/scavenger/contents/89338?ref=master', 'html_url': 'https://github.com/ironhack-datalabs/scavenger/tree/master/89338', 'git_url': 'https://api.github.com/repos/ironhack-datalabs/scavenger/git/trees/79c94a4032a927b2af52cc6da4ce27eb2abbf55e', 'download_url': None, 'type': 'dir', '_links': {'self': 'https://api.github.com/repos/ironhack-datalabs/scavenger/contents/89338?ref=master', 'git': 'https://api.github.com/repos/ironhack-datalabs/scavenger/git/trees/79c94a4032a927b2af52cc6da4ce27eb2abbf55e', 'html': 'https://github.com/ironhack-datalabs/scavenger/tree/master/89338'}}, {'name': '91701', 'path': '91701', 'sha': '0ad19115f0b56c3cd10cb7e077140c201b527301', 'size': 0, 'url': 'https://api.github.com/repos/ironhack-datalabs/scavenger/contents/91701?ref=master', 'html_url': 'https://github.com/ironhack-datalabs/scavenger/tree/master/91701', 'git_url': 'https://api.github.com/repos/ironhack-datalabs/scavenger/git/trees/0ad19115f0b56c3cd10cb7e077140c201b527301', 'download_url': None, 'type': 'dir', '_links': {'self': 'https://api.github.com/repos/ironhack-datalabs/scavenger/contents/91701?ref=master', 'git': 'https://api.github.com/repos/ironhack-datalabs/scavenger/git/trees/0ad19115f0b56c3cd10cb7e077140c201b527301', 'html': 'https://github.com/ironhack-datalabs/scavenger/tree/master/91701'}}, {'name': '97881', 'path': '97881', 'sha': 'c369c43c17ec44cc3e66dd27f8e557f9d15d40f4', 'size': 0, 'url': 'https://api.github.com/repos/ironhack-datalabs/scavenger/contents/97881?ref=master', 'html_url': 'https://github.com/ironhack-datalabs/scavenger/tree/master/97881', 'git_url': 'https://api.github.com/repos/ironhack-datalabs/scavenger/git/trees/c369c43c17ec44cc3e66dd27f8e557f9d15d40f4', 'download_url': None, 'type': 'dir', '_links': {'self': 'https://api.github.com/repos/ironhack-datalabs/scavenger/contents/97881?ref=master', 'git': 'https://api.github.com/repos/ironhack-datalabs/scavenger/git/trees/c369c43c17ec44cc3e66dd27f8e557f9d15d40f4', 'html': 'https://github.com/ironhack-datalabs/scavenger/tree/master/97881'}}, {'name': '98750', 'path': '98750', 'sha': 'cdc23915e0a5179127458431986ba3750840a924', 'size': 0, 'url': 'https://api.github.com/repos/ironhack-datalabs/scavenger/contents/98750?ref=master', 'html_url': 'https://github.com/ironhack-datalabs/scavenger/tree/master/98750', 'git_url': 'https://api.github.com/repos/ironhack-datalabs/scavenger/git/trees/cdc23915e0a5179127458431986ba3750840a924', 'download_url': None, 'type': 'dir', '_links': {'self': 'https://api.github.com/repos/ironhack-datalabs/scavenger/contents/98750?ref=master', 'git': 'https://api.github.com/repos/ironhack-datalabs/scavenger/git/trees/cdc23915e0a5179127458431986ba3750840a924', 'html': 'https://github.com/ironhack-datalabs/scavenger/tree/master/98750'}}]\n"
     ]
    }
   ],
   "source": [
    "print(contents)"
   ]
  },
  {
   "cell_type": "code",
   "execution_count": 186,
   "metadata": {},
   "outputs": [
    {
     "data": {
      "text/plain": [
       "'15534'"
      ]
     },
     "execution_count": 186,
     "metadata": {},
     "output_type": "execute_result"
    }
   ],
   "source": [
    "\n",
    "name_folders = list(map(lambda x: x[\"name\"], contents))\n",
    "name_folders = [e for e in name_folders if e != \".gitignore\"]\n",
    "\n",
    "name_folders[1]"
   ]
  },
  {
   "cell_type": "code",
   "execution_count": 141,
   "metadata": {},
   "outputs": [],
   "source": [
    "def requestGithub(endpoint):\n",
    "    token = os.getenv(\"GITHUB_APIKEY\")\n",
    "    if not token:\n",
    "        raise ValueError(\"You must set a GITHUB_APIKEY token\")\n",
    "    \n",
    "    baseUrl = \"https://api.github.com/repos/ironhack-datalabs/scavenger/\"\n",
    "    url = baseUrl+endpoint\n",
    "    print(f\"Requesting data from {url}\")\n",
    "    headers = {\n",
    "        \"Authorization\": f\"token {token}\"\n",
    "    }\n",
    "    res = requests.get(url,headers=headers)\n",
    "    if res.status_code != 200:\n",
    "        print(res.text)\n",
    "        raise ValueError(\"Bad Response\")\n",
    "    return res.json()\n"
   ]
  },
  {
   "cell_type": "code",
   "execution_count": 148,
   "metadata": {},
   "outputs": [
    {
     "name": "stdout",
     "output_type": "stream",
     "text": [
      "Requesting data from https://api.github.com/repos/ironhack-datalabs/scavenger/contents/15024\n",
      "Requesting data from https://api.github.com/repos/ironhack-datalabs/scavenger/contents/15534\n",
      "Requesting data from https://api.github.com/repos/ironhack-datalabs/scavenger/contents/17020\n",
      "Requesting data from https://api.github.com/repos/ironhack-datalabs/scavenger/contents/30351\n",
      "Requesting data from https://api.github.com/repos/ironhack-datalabs/scavenger/contents/40303\n",
      "Requesting data from https://api.github.com/repos/ironhack-datalabs/scavenger/contents/44639\n",
      "Requesting data from https://api.github.com/repos/ironhack-datalabs/scavenger/contents/45525\n",
      "Requesting data from https://api.github.com/repos/ironhack-datalabs/scavenger/contents/47222\n",
      "Requesting data from https://api.github.com/repos/ironhack-datalabs/scavenger/contents/47830\n",
      "Requesting data from https://api.github.com/repos/ironhack-datalabs/scavenger/contents/49418\n",
      "Requesting data from https://api.github.com/repos/ironhack-datalabs/scavenger/contents/50896\n",
      "Requesting data from https://api.github.com/repos/ironhack-datalabs/scavenger/contents/55417\n",
      "Requesting data from https://api.github.com/repos/ironhack-datalabs/scavenger/contents/55685\n",
      "Requesting data from https://api.github.com/repos/ironhack-datalabs/scavenger/contents/60224\n",
      "Requesting data from https://api.github.com/repos/ironhack-datalabs/scavenger/contents/64880\n",
      "Requesting data from https://api.github.com/repos/ironhack-datalabs/scavenger/contents/66032\n",
      "Requesting data from https://api.github.com/repos/ironhack-datalabs/scavenger/contents/68848\n",
      "Requesting data from https://api.github.com/repos/ironhack-datalabs/scavenger/contents/70751\n",
      "Requesting data from https://api.github.com/repos/ironhack-datalabs/scavenger/contents/70985\n",
      "Requesting data from https://api.github.com/repos/ironhack-datalabs/scavenger/contents/88596\n",
      "Requesting data from https://api.github.com/repos/ironhack-datalabs/scavenger/contents/89046\n",
      "Requesting data from https://api.github.com/repos/ironhack-datalabs/scavenger/contents/89338\n",
      "Requesting data from https://api.github.com/repos/ironhack-datalabs/scavenger/contents/91701\n",
      "Requesting data from https://api.github.com/repos/ironhack-datalabs/scavenger/contents/97881\n",
      "Requesting data from https://api.github.com/repos/ironhack-datalabs/scavenger/contents/98750\n"
     ]
    }
   ],
   "source": [
    "files = [requestGithub(\"contents/\" + str(e)) for e in name_folders]"
   ]
  },
  {
   "cell_type": "code",
   "execution_count": 183,
   "metadata": {},
   "outputs": [
    {
     "name": "stdout",
     "output_type": "stream",
     "text": [
      "['.0006.scavengerhunt', '.0008.scavengerhunt', '.0012.scavengerhunt', '.0007.scavengerhunt', '.0021.scavengerhunt', '.0022.scavengerhunt', '.0005.scavengerhunt', '.0018.scavengerhunt', '.0016.scavengerhunt', '.0024.scavengerhunt', '.0010.scavengerhunt', '.0014.scavengerhunt', '.0011.scavengerhunt', '.0023.scavengerhunt', '.0020.scavengerhunt', '.0003.scavengerhunt', '.0004.scavengerhunt', '.0019.scavengerhunt', '.0017.scavengerhunt', '.0002.scavengerhunt', '.0013.scavengerhunt', '.0015.scavengerhunt', '.0009.scavengerhunt', '.0001.scavengerhunt']\n"
     ]
    }
   ],
   "source": [
    "lst = [file[\"name\"] for e in files for file in e]\n",
    "scavengerFiles = [e for e in lst if \"scavenger\" in e]\n",
    "print(scavengerFiles)"
   ]
  },
  {
   "cell_type": "code",
   "execution_count": 197,
   "metadata": {},
   "outputs": [],
   "source": [
    "#No vale porque hay más de un archivo por carpeta................\n",
    "\n",
    "tupl = zip(name_folders, scavengerFiles)\n",
    "\n",
    "scavengerContent = []\n",
    "\n",
    "for folder, file in tupl:\n",
    "    print(folder, file)\n",
    "    a = requestGithub(\"contents/\" + str(folder) + \"/\" + str(file))\n",
    "    scavengerContent.append(a)"
   ]
  },
  {
   "cell_type": "code",
   "execution_count": 202,
   "metadata": {},
   "outputs": [
    {
     "name": "stdout",
     "output_type": "stream",
     "text": [
      "['15024/.0006.scavengerhunt', '15534/.0008.scavengerhunt', '15534/.0012.scavengerhunt', '17020/.0007.scavengerhunt', '30351/.0021.scavengerhunt', '40303/.0022.scavengerhunt', '44639/.0005.scavengerhunt', '45525/.0018.scavengerhunt', '47222/.0016.scavengerhunt', '47222/.0024.scavengerhunt', '47830/.0010.scavengerhunt', '49418/.0014.scavengerhunt', '50896/.0011.scavengerhunt', '55417/.0023.scavengerhunt', '55685/.0020.scavengerhunt', '60224/.0003.scavengerhunt', '68848/.0004.scavengerhunt', '70751/.0019.scavengerhunt', '70985/.0017.scavengerhunt', '88596/.0002.scavengerhunt', '89338/.0013.scavengerhunt', '91701/.0015.scavengerhunt', '97881/.0009.scavengerhunt', '98750/.0001.scavengerhunt']\n"
     ]
    }
   ],
   "source": [
    "# Actualizo scavengerFiles con el path, no el nombre!!!\n",
    "\n",
    "lst = [file[\"path\"] for e in files for file in e]\n",
    "scavengerFiles = [e for e in lst if \"scavenger\" in e]\n",
    "print(scavengerFiles)\n"
   ]
  },
  {
   "cell_type": "code",
   "execution_count": 215,
   "metadata": {},
   "outputs": [
    {
     "name": "stdout",
     "output_type": "stream",
     "text": [
      "['98750/.0001.scavengerhunt', '88596/.0002.scavengerhunt', '60224/.0003.scavengerhunt', '68848/.0004.scavengerhunt', '44639/.0005.scavengerhunt', '15024/.0006.scavengerhunt', '17020/.0007.scavengerhunt', '15534/.0008.scavengerhunt', '97881/.0009.scavengerhunt', '47830/.0010.scavengerhunt', '50896/.0011.scavengerhunt', '15534/.0012.scavengerhunt', '89338/.0013.scavengerhunt', '49418/.0014.scavengerhunt', '91701/.0015.scavengerhunt', '47222/.0016.scavengerhunt', '70985/.0017.scavengerhunt', '45525/.0018.scavengerhunt', '70751/.0019.scavengerhunt', '55685/.0020.scavengerhunt', '30351/.0021.scavengerhunt', '40303/.0022.scavengerhunt', '55417/.0023.scavengerhunt', '47222/.0024.scavengerhunt']\n"
     ]
    }
   ],
   "source": [
    "# Ordeno\n",
    "\n",
    "\n",
    "sortedScavengers = sorted(scavengerFiles, key=lambda x: (x[9],x[10]))\n",
    "\n",
    "print(sortedScavengers)"
   ]
  },
  {
   "cell_type": "code",
   "execution_count": 216,
   "metadata": {},
   "outputs": [
    {
     "name": "stdout",
     "output_type": "stream",
     "text": [
      "Requesting data from https://api.github.com/repos/ironhack-datalabs/scavenger/contents/98750/.0001.scavengerhunt\n",
      "Requesting data from https://api.github.com/repos/ironhack-datalabs/scavenger/contents/88596/.0002.scavengerhunt\n",
      "Requesting data from https://api.github.com/repos/ironhack-datalabs/scavenger/contents/60224/.0003.scavengerhunt\n",
      "Requesting data from https://api.github.com/repos/ironhack-datalabs/scavenger/contents/68848/.0004.scavengerhunt\n",
      "Requesting data from https://api.github.com/repos/ironhack-datalabs/scavenger/contents/44639/.0005.scavengerhunt\n",
      "Requesting data from https://api.github.com/repos/ironhack-datalabs/scavenger/contents/15024/.0006.scavengerhunt\n",
      "Requesting data from https://api.github.com/repos/ironhack-datalabs/scavenger/contents/17020/.0007.scavengerhunt\n",
      "Requesting data from https://api.github.com/repos/ironhack-datalabs/scavenger/contents/15534/.0008.scavengerhunt\n",
      "Requesting data from https://api.github.com/repos/ironhack-datalabs/scavenger/contents/97881/.0009.scavengerhunt\n",
      "Requesting data from https://api.github.com/repos/ironhack-datalabs/scavenger/contents/47830/.0010.scavengerhunt\n",
      "Requesting data from https://api.github.com/repos/ironhack-datalabs/scavenger/contents/50896/.0011.scavengerhunt\n",
      "Requesting data from https://api.github.com/repos/ironhack-datalabs/scavenger/contents/15534/.0012.scavengerhunt\n",
      "Requesting data from https://api.github.com/repos/ironhack-datalabs/scavenger/contents/89338/.0013.scavengerhunt\n",
      "Requesting data from https://api.github.com/repos/ironhack-datalabs/scavenger/contents/49418/.0014.scavengerhunt\n",
      "Requesting data from https://api.github.com/repos/ironhack-datalabs/scavenger/contents/91701/.0015.scavengerhunt\n",
      "Requesting data from https://api.github.com/repos/ironhack-datalabs/scavenger/contents/47222/.0016.scavengerhunt\n",
      "Requesting data from https://api.github.com/repos/ironhack-datalabs/scavenger/contents/70985/.0017.scavengerhunt\n",
      "Requesting data from https://api.github.com/repos/ironhack-datalabs/scavenger/contents/45525/.0018.scavengerhunt\n",
      "Requesting data from https://api.github.com/repos/ironhack-datalabs/scavenger/contents/70751/.0019.scavengerhunt\n",
      "Requesting data from https://api.github.com/repos/ironhack-datalabs/scavenger/contents/55685/.0020.scavengerhunt\n",
      "Requesting data from https://api.github.com/repos/ironhack-datalabs/scavenger/contents/30351/.0021.scavengerhunt\n",
      "Requesting data from https://api.github.com/repos/ironhack-datalabs/scavenger/contents/40303/.0022.scavengerhunt\n",
      "Requesting data from https://api.github.com/repos/ironhack-datalabs/scavenger/contents/55417/.0023.scavengerhunt\n",
      "Requesting data from https://api.github.com/repos/ironhack-datalabs/scavenger/contents/47222/.0024.scavengerhunt\n"
     ]
    }
   ],
   "source": [
    "scavengerContent = [requestGithub(\"contents/\" + str(e)) for e in sortedScavengers]"
   ]
  },
  {
   "cell_type": "code",
   "execution_count": 217,
   "metadata": {},
   "outputs": [],
   "source": [
    "base64Words = list(map(lambda x: x[\"content\"], scavengerContent))\n"
   ]
  },
  {
   "cell_type": "code",
   "execution_count": 218,
   "metadata": {},
   "outputs": [
    {
     "data": {
      "text/plain": [
       "['SW4K\\n',\n",
       " 'ZGF0YQo=\\n',\n",
       " 'c2NpZW5jZSwK\\n',\n",
       " 'ODAK\\n',\n",
       " 'cGVyY2VudAo=\\n',\n",
       " 'b2YK\\n',\n",
       " 'dGltZQo=\\n',\n",
       " 'c3BlbnQK\\n',\n",
       " 'aXMK\\n',\n",
       " 'cHJlcGFyaW5nCg==\\n',\n",
       " 'ZGF0YSwK\\n',\n",
       " 'MjAK\\n',\n",
       " 'cGVyY2VudAo=\\n',\n",
       " 'b2YK\\n',\n",
       " 'dGltZQo=\\n',\n",
       " 'aXMK\\n',\n",
       " 'c3BlbnQK\\n',\n",
       " 'Y29tcGxhaW5pbmcK\\n',\n",
       " 'YWJvdXQK\\n',\n",
       " 'dGhlCg==\\n',\n",
       " 'bmVlZAo=\\n',\n",
       " 'dG8K\\n',\n",
       " 'cHJlcGFyZQo=\\n',\n",
       " 'ZGF0YS4K\\n']"
      ]
     },
     "execution_count": 218,
     "metadata": {},
     "output_type": "execute_result"
    }
   ],
   "source": [
    "base64Words"
   ]
  },
  {
   "cell_type": "code",
   "execution_count": 219,
   "metadata": {},
   "outputs": [
    {
     "name": "stdout",
     "output_type": "stream",
     "text": [
      "[b'In\\n', b'data\\n', b'science,\\n', b'80\\n', b'percent\\n', b'of\\n', b'time\\n', b'spent\\n', b'is\\n', b'preparing\\n', b'data,\\n', b'20\\n', b'percent\\n', b'of\\n', b'time\\n', b'is\\n', b'spent\\n', b'complaining\\n', b'about\\n', b'the\\n', b'need\\n', b'to\\n', b'prepare\\n', b'data.\\n']\n"
     ]
    }
   ],
   "source": [
    "import base64\n",
    "decoding = [base64.b64decode(e) for e in base64Words]\n",
    "print(decoding)"
   ]
  },
  {
   "cell_type": "code",
   "execution_count": 220,
   "metadata": {},
   "outputs": [
    {
     "name": "stdout",
     "output_type": "stream",
     "text": [
      "['In\\n', 'data\\n', 'science,\\n', '80\\n', 'percent\\n', 'of\\n', 'time\\n', 'spent\\n', 'is\\n', 'preparing\\n', 'data,\\n', '20\\n', 'percent\\n', 'of\\n', 'time\\n', 'is\\n', 'spent\\n', 'complaining\\n', 'about\\n', 'the\\n', 'need\\n', 'to\\n', 'prepare\\n', 'data.\\n']\n"
     ]
    }
   ],
   "source": [
    "words = [e.decode(\"UTF-8\") for e in decoding]\n",
    "print(words)"
   ]
  },
  {
   "cell_type": "code",
   "execution_count": 222,
   "metadata": {},
   "outputs": [],
   "source": [
    "sentence = \"\".join(words).replace(\"\\n\", \" \")"
   ]
  },
  {
   "cell_type": "code",
   "execution_count": 224,
   "metadata": {},
   "outputs": [
    {
     "name": "stdout",
     "output_type": "stream",
     "text": [
      "In data science, 80 percent of time spent is preparing data, 20 percent of time is spent complaining about the need to prepare data. \n"
     ]
    }
   ],
   "source": [
    "sentece\n",
    "print(sentence)"
   ]
  },
  {
   "cell_type": "code",
   "execution_count": null,
   "metadata": {},
   "outputs": [],
   "source": []
  }
 ],
 "metadata": {
  "kernelspec": {
   "display_name": "Python 3",
   "language": "python",
   "name": "python3"
  },
  "language_info": {
   "codemirror_mode": {
    "name": "ipython",
    "version": 3
   },
   "file_extension": ".py",
   "mimetype": "text/x-python",
   "name": "python",
   "nbconvert_exporter": "python",
   "pygments_lexer": "ipython3",
   "version": "3.7.5"
  }
 },
 "nbformat": 4,
 "nbformat_minor": 2
}
