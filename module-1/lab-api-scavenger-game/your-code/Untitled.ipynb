{
 "cells": [
  {
   "cell_type": "code",
   "execution_count": 1,
   "metadata": {},
   "outputs": [],
   "source": [
    "import json\n",
    "import os\n",
    "from dotenv import load_dotenv\n",
    "import requests\n"
   ]
  },
  {
   "cell_type": "code",
   "execution_count": 2,
   "metadata": {},
   "outputs": [
    {
     "name": "stdout",
     "output_type": "stream",
     "text": [
      "We have a github token: 90e\n"
     ]
    }
   ],
   "source": [
    "load_dotenv()\n",
    "token = os.getenv(\"GITHUB_APIKEY\")\n",
    "print(f\"We have a github token: {token[0:3]}\")"
   ]
  },
  {
   "cell_type": "markdown",
   "metadata": {},
   "source": [
    "# # Challenge 1"
   ]
  },
  {
   "cell_type": "code",
   "execution_count": 28,
   "metadata": {},
   "outputs": [],
   "source": [
    "forks = requests.get(\"https://api.github.com/repos/ironhack-datalabs/datamad0120/forks\").json()\n"
   ]
  },
  {
   "cell_type": "code",
   "execution_count": 25,
   "metadata": {},
   "outputs": [],
   "source": [
    "\n",
    "language = list(map(lambda x: x[\"language\"], forks))\n",
    "    "
   ]
  },
  {
   "cell_type": "code",
   "execution_count": 17,
   "metadata": {},
   "outputs": [
    {
     "name": "stdout",
     "output_type": "stream",
     "text": [
      "{None, 'Jupyter Notebook'}\n"
     ]
    }
   ],
   "source": [
    "language = set(language)\n",
    "print(language)"
   ]
  },
  {
   "cell_type": "markdown",
   "metadata": {},
   "source": [
    "# # Challenge 2"
   ]
  },
  {
   "cell_type": "code",
   "execution_count": 29,
   "metadata": {},
   "outputs": [],
   "source": [
    "commits = requests.get(\"https://api.github.com/repos/ironhack-datalabs/datamad0120/commits\").json()\n"
   ]
  },
  {
   "cell_type": "code",
   "execution_count": 34,
   "metadata": {},
   "outputs": [
    {
     "data": {
      "text/plain": [
       "{'sha': '1cd7b23e91644bd7c2c6a241eee16ea21835955d',\n",
       " 'node_id': 'MDY6Q29tbWl0MjMzNTc5NDU2OjFjZDdiMjNlOTE2NDRiZDdjMmM2YTI0MWVlZTE2ZWEyMTgzNTk1NWQ=',\n",
       " 'commit': {'author': {'name': 'Felipe Ferrero',\n",
       "   'email': '52798316+ferrero-felipe@users.noreply.github.com',\n",
       "   'date': '2019-11-11T09:05:25Z'},\n",
       "  'committer': {'name': 'GitHub',\n",
       "   'email': 'noreply@github.com',\n",
       "   'date': '2019-11-11T09:05:25Z'},\n",
       "  'message': 'Merge pull request #207 from begoechavarren/add_bash\\n\\nAdd lab-bash to module 2',\n",
       "  'tree': {'sha': '8c5b78e085ccde6a7af6a43fd8de7ebe4f45fe48',\n",
       "   'url': 'https://api.github.com/repos/ironhack-datalabs/datamad0120/git/trees/8c5b78e085ccde6a7af6a43fd8de7ebe4f45fe48'},\n",
       "  'url': 'https://api.github.com/repos/ironhack-datalabs/datamad0120/git/commits/1cd7b23e91644bd7c2c6a241eee16ea21835955d',\n",
       "  'comment_count': 0,\n",
       "  'verification': {'verified': True,\n",
       "   'reason': 'valid',\n",
       "   'signature': '-----BEGIN PGP SIGNATURE-----\\n\\nwsBcBAABCAAQBQJdySRVCRBK7hj4Ov3rIwAAdHIIAJqyQ/gW+o8FtZ12B6yO/VBh\\ncq74GH8BFkRtImhF5dr7AfORFdoU036/wnxrIvi+/IhboFxZ3r+Cjtkd8EGc3LwD\\ns+8iNlXPgGgLsqHiZIK8TAI9NanFEukT82zJgdms1JDaNFK8/fzTeFqV7XjIiMn8\\nUI/E9mpmmPpPKPdwO6z5p3KZJpg56nezHtPxMqlcYovp10pACpngJakpQ+RDvAVB\\ngDJJNpUyJ69Trpj/NW81ZQNoqyogopNSSuQqkhD8uaeDbUc15BxTSdNi4D4WPIXq\\nMUpUiRcPiV25Kd7KzvgXJ34nERCnUqYOttV+2alCCPiNp6DMylC6BB3ugkMEzUs=\\n=B2Y6\\n-----END PGP SIGNATURE-----\\n',\n",
       "   'payload': 'tree 8c5b78e085ccde6a7af6a43fd8de7ebe4f45fe48\\nparent 736943a50f626e98be1b6da8dcf12c36b48f1cb7\\nparent d7fc6f3e8ee5d7a0517ef2840216a428f74a2afd\\nauthor Felipe Ferrero <52798316+ferrero-felipe@users.noreply.github.com> 1573463125 +0100\\ncommitter GitHub <noreply@github.com> 1573463125 +0100\\n\\nMerge pull request #207 from begoechavarren/add_bash\\n\\nAdd lab-bash to module 2'}},\n",
       " 'url': 'https://api.github.com/repos/ironhack-datalabs/datamad0120/commits/1cd7b23e91644bd7c2c6a241eee16ea21835955d',\n",
       " 'html_url': 'https://github.com/ironhack-datalabs/datamad0120/commit/1cd7b23e91644bd7c2c6a241eee16ea21835955d',\n",
       " 'comments_url': 'https://api.github.com/repos/ironhack-datalabs/datamad0120/commits/1cd7b23e91644bd7c2c6a241eee16ea21835955d/comments',\n",
       " 'author': {'login': 'ferrero-felipe',\n",
       "  'id': 52798316,\n",
       "  'node_id': 'MDQ6VXNlcjUyNzk4MzE2',\n",
       "  'avatar_url': 'https://avatars2.githubusercontent.com/u/52798316?v=4',\n",
       "  'gravatar_id': '',\n",
       "  'url': 'https://api.github.com/users/ferrero-felipe',\n",
       "  'html_url': 'https://github.com/ferrero-felipe',\n",
       "  'followers_url': 'https://api.github.com/users/ferrero-felipe/followers',\n",
       "  'following_url': 'https://api.github.com/users/ferrero-felipe/following{/other_user}',\n",
       "  'gists_url': 'https://api.github.com/users/ferrero-felipe/gists{/gist_id}',\n",
       "  'starred_url': 'https://api.github.com/users/ferrero-felipe/starred{/owner}{/repo}',\n",
       "  'subscriptions_url': 'https://api.github.com/users/ferrero-felipe/subscriptions',\n",
       "  'organizations_url': 'https://api.github.com/users/ferrero-felipe/orgs',\n",
       "  'repos_url': 'https://api.github.com/users/ferrero-felipe/repos',\n",
       "  'events_url': 'https://api.github.com/users/ferrero-felipe/events{/privacy}',\n",
       "  'received_events_url': 'https://api.github.com/users/ferrero-felipe/received_events',\n",
       "  'type': 'User',\n",
       "  'site_admin': False},\n",
       " 'committer': {'login': 'web-flow',\n",
       "  'id': 19864447,\n",
       "  'node_id': 'MDQ6VXNlcjE5ODY0NDQ3',\n",
       "  'avatar_url': 'https://avatars3.githubusercontent.com/u/19864447?v=4',\n",
       "  'gravatar_id': '',\n",
       "  'url': 'https://api.github.com/users/web-flow',\n",
       "  'html_url': 'https://github.com/web-flow',\n",
       "  'followers_url': 'https://api.github.com/users/web-flow/followers',\n",
       "  'following_url': 'https://api.github.com/users/web-flow/following{/other_user}',\n",
       "  'gists_url': 'https://api.github.com/users/web-flow/gists{/gist_id}',\n",
       "  'starred_url': 'https://api.github.com/users/web-flow/starred{/owner}{/repo}',\n",
       "  'subscriptions_url': 'https://api.github.com/users/web-flow/subscriptions',\n",
       "  'organizations_url': 'https://api.github.com/users/web-flow/orgs',\n",
       "  'repos_url': 'https://api.github.com/users/web-flow/repos',\n",
       "  'events_url': 'https://api.github.com/users/web-flow/events{/privacy}',\n",
       "  'received_events_url': 'https://api.github.com/users/web-flow/received_events',\n",
       "  'type': 'User',\n",
       "  'site_admin': False},\n",
       " 'parents': [{'sha': '736943a50f626e98be1b6da8dcf12c36b48f1cb7',\n",
       "   'url': 'https://api.github.com/repos/ironhack-datalabs/datamad0120/commits/736943a50f626e98be1b6da8dcf12c36b48f1cb7',\n",
       "   'html_url': 'https://github.com/ironhack-datalabs/datamad0120/commit/736943a50f626e98be1b6da8dcf12c36b48f1cb7'},\n",
       "  {'sha': 'd7fc6f3e8ee5d7a0517ef2840216a428f74a2afd',\n",
       "   'url': 'https://api.github.com/repos/ironhack-datalabs/datamad0120/commits/d7fc6f3e8ee5d7a0517ef2840216a428f74a2afd',\n",
       "   'html_url': 'https://github.com/ironhack-datalabs/datamad0120/commit/d7fc6f3e8ee5d7a0517ef2840216a428f74a2afd'}]}"
      ]
     },
     "execution_count": 34,
     "metadata": {},
     "output_type": "execute_result"
    }
   ],
   "source": [
    "commits[1]"
   ]
  },
  {
   "cell_type": "code",
   "execution_count": null,
   "metadata": {},
   "outputs": [],
   "source": []
  }
 ],
 "metadata": {
  "kernelspec": {
   "display_name": "Python 3",
   "language": "python",
   "name": "python3"
  },
  "language_info": {
   "codemirror_mode": {
    "name": "ipython",
    "version": 3
   },
   "file_extension": ".py",
   "mimetype": "text/x-python",
   "name": "python",
   "nbconvert_exporter": "python",
   "pygments_lexer": "ipython3",
   "version": "3.7.5"
  }
 },
 "nbformat": 4,
 "nbformat_minor": 2
}
